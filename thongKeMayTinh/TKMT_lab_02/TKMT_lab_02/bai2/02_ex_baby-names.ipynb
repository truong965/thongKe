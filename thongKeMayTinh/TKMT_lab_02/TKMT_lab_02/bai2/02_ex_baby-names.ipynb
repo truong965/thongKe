{
 "cells": [
  {
   "cell_type": "markdown",
   "metadata": {},
   "source": [
    "# US Baby Name"
   ]
  },
  {
   "cell_type": "markdown",
   "metadata": {},
   "source": [
    "## GIỚI THIỆU\n",
    "Dữ Liệu `US_BaBy_Names.csv` chứa thông tin của các em bé sinh từ 2004 - 2014 tại Mỹ. Dựa vào tập dữ liệu trên, bạn hãy thực hiện các bài tập sau:"
   ]
  },
  {
   "cell_type": "markdown",
   "metadata": {},
   "source": [
    "## TÌM HIỂU DỮ LIỆU"
   ]
  },
  {
   "cell_type": "markdown",
   "metadata": {},
   "source": [
    "### 01. Đọc dữ liệu"
   ]
  },
  {
   "cell_type": "code",
   "execution_count": 1,
   "metadata": {},
   "outputs": [],
   "source": [
    "import pandas as pd\n",
    "import numpy as np\n",
    "baby = pd.read_csv('US_Baby_Names.csv')"
   ]
  },
  {
   "cell_type": "markdown",
   "metadata": {},
   "source": [
    "### 02. Hiển thị 10 dòng dữ liệu bất kỳ"
   ]
  },
  {
   "cell_type": "code",
   "execution_count": 4,
   "metadata": {},
   "outputs": [
    {
     "data": {
      "text/html": [
       "<div>\n",
       "<style scoped>\n",
       "    .dataframe tbody tr th:only-of-type {\n",
       "        vertical-align: middle;\n",
       "    }\n",
       "\n",
       "    .dataframe tbody tr th {\n",
       "        vertical-align: top;\n",
       "    }\n",
       "\n",
       "    .dataframe thead th {\n",
       "        text-align: right;\n",
       "    }\n",
       "</style>\n",
       "<table border=\"1\" class=\"dataframe\">\n",
       "  <thead>\n",
       "    <tr style=\"text-align: right;\">\n",
       "      <th></th>\n",
       "      <th>Unnamed: 0</th>\n",
       "      <th>Id</th>\n",
       "      <th>Name</th>\n",
       "      <th>Year</th>\n",
       "      <th>Gender</th>\n",
       "      <th>State</th>\n",
       "      <th>Count</th>\n",
       "    </tr>\n",
       "  </thead>\n",
       "  <tbody>\n",
       "    <tr>\n",
       "      <th>394</th>\n",
       "      <td>11743</td>\n",
       "      <td>11744</td>\n",
       "      <td>Isis</td>\n",
       "      <td>2005</td>\n",
       "      <td>F</td>\n",
       "      <td>AK</td>\n",
       "      <td>5</td>\n",
       "    </tr>\n",
       "    <tr>\n",
       "      <th>383632</th>\n",
       "      <td>2062747</td>\n",
       "      <td>2062748</td>\n",
       "      <td>Allen</td>\n",
       "      <td>2011</td>\n",
       "      <td>M</td>\n",
       "      <td>KY</td>\n",
       "      <td>13</td>\n",
       "    </tr>\n",
       "    <tr>\n",
       "      <th>208453</th>\n",
       "      <td>1076538</td>\n",
       "      <td>1076539</td>\n",
       "      <td>Zenaida</td>\n",
       "      <td>2014</td>\n",
       "      <td>F</td>\n",
       "      <td>FL</td>\n",
       "      <td>6</td>\n",
       "    </tr>\n",
       "    <tr>\n",
       "      <th>155915</th>\n",
       "      <td>805960</td>\n",
       "      <td>805961</td>\n",
       "      <td>Gilbert</td>\n",
       "      <td>2010</td>\n",
       "      <td>M</td>\n",
       "      <td>CO</td>\n",
       "      <td>9</td>\n",
       "    </tr>\n",
       "    <tr>\n",
       "      <th>139582</th>\n",
       "      <td>754819</td>\n",
       "      <td>754820</td>\n",
       "      <td>Eileen</td>\n",
       "      <td>2004</td>\n",
       "      <td>F</td>\n",
       "      <td>CO</td>\n",
       "      <td>10</td>\n",
       "    </tr>\n",
       "    <tr>\n",
       "      <th>491091</th>\n",
       "      <td>2696632</td>\n",
       "      <td>2696633</td>\n",
       "      <td>Summer</td>\n",
       "      <td>2014</td>\n",
       "      <td>F</td>\n",
       "      <td>MN</td>\n",
       "      <td>28</td>\n",
       "    </tr>\n",
       "    <tr>\n",
       "      <th>579862</th>\n",
       "      <td>3262886</td>\n",
       "      <td>3262887</td>\n",
       "      <td>Zoey</td>\n",
       "      <td>2007</td>\n",
       "      <td>F</td>\n",
       "      <td>NE</td>\n",
       "      <td>27</td>\n",
       "    </tr>\n",
       "    <tr>\n",
       "      <th>104977</th>\n",
       "      <td>563040</td>\n",
       "      <td>563041</td>\n",
       "      <td>Estefani</td>\n",
       "      <td>2014</td>\n",
       "      <td>F</td>\n",
       "      <td>CA</td>\n",
       "      <td>17</td>\n",
       "    </tr>\n",
       "    <tr>\n",
       "      <th>263318</th>\n",
       "      <td>1326546</td>\n",
       "      <td>1326547</td>\n",
       "      <td>Khari</td>\n",
       "      <td>2014</td>\n",
       "      <td>M</td>\n",
       "      <td>GA</td>\n",
       "      <td>7</td>\n",
       "    </tr>\n",
       "    <tr>\n",
       "      <th>511281</th>\n",
       "      <td>2815004</td>\n",
       "      <td>2815005</td>\n",
       "      <td>Abrielle</td>\n",
       "      <td>2013</td>\n",
       "      <td>F</td>\n",
       "      <td>MO</td>\n",
       "      <td>8</td>\n",
       "    </tr>\n",
       "  </tbody>\n",
       "</table>\n",
       "</div>"
      ],
      "text/plain": [
       "        Unnamed: 0       Id      Name  Year Gender State  Count\n",
       "394          11743    11744      Isis  2005      F    AK      5\n",
       "383632     2062747  2062748     Allen  2011      M    KY     13\n",
       "208453     1076538  1076539   Zenaida  2014      F    FL      6\n",
       "155915      805960   805961   Gilbert  2010      M    CO      9\n",
       "139582      754819   754820    Eileen  2004      F    CO     10\n",
       "491091     2696632  2696633    Summer  2014      F    MN     28\n",
       "579862     3262886  3262887      Zoey  2007      F    NE     27\n",
       "104977      563040   563041  Estefani  2014      F    CA     17\n",
       "263318     1326546  1326547     Khari  2014      M    GA      7\n",
       "511281     2815004  2815005  Abrielle  2013      F    MO      8"
      ]
     },
     "execution_count": 4,
     "metadata": {},
     "output_type": "execute_result"
    }
   ],
   "source": [
    "baby.sample(10,random_state=99)"
   ]
  },
  {
   "cell_type": "markdown",
   "metadata": {},
   "source": [
    "### 03. Cho biết kích thước dữ liệu"
   ]
  },
  {
   "cell_type": "code",
   "execution_count": 5,
   "metadata": {},
   "outputs": [
    {
     "data": {
      "text/plain": [
       "(1016395, 7)"
      ]
     },
     "execution_count": 5,
     "metadata": {},
     "output_type": "execute_result"
    }
   ],
   "source": [
    "baby.shape"
   ]
  },
  {
   "cell_type": "markdown",
   "metadata": {},
   "source": [
    "### 04. Xóa 2 cột 'Unnamed: 0' and 'Id'"
   ]
  },
  {
   "cell_type": "code",
   "execution_count": 12,
   "metadata": {
    "scrolled": true
   },
   "outputs": [
    {
     "data": {
      "text/html": [
       "<div>\n",
       "<style scoped>\n",
       "    .dataframe tbody tr th:only-of-type {\n",
       "        vertical-align: middle;\n",
       "    }\n",
       "\n",
       "    .dataframe tbody tr th {\n",
       "        vertical-align: top;\n",
       "    }\n",
       "\n",
       "    .dataframe thead th {\n",
       "        text-align: right;\n",
       "    }\n",
       "</style>\n",
       "<table border=\"1\" class=\"dataframe\">\n",
       "  <thead>\n",
       "    <tr style=\"text-align: right;\">\n",
       "      <th></th>\n",
       "      <th>Name</th>\n",
       "      <th>Year</th>\n",
       "      <th>Gender</th>\n",
       "      <th>State</th>\n",
       "      <th>Count</th>\n",
       "    </tr>\n",
       "  </thead>\n",
       "  <tbody>\n",
       "    <tr>\n",
       "      <th>0</th>\n",
       "      <td>Emma</td>\n",
       "      <td>2004</td>\n",
       "      <td>F</td>\n",
       "      <td>AK</td>\n",
       "      <td>62</td>\n",
       "    </tr>\n",
       "    <tr>\n",
       "      <th>1</th>\n",
       "      <td>Madison</td>\n",
       "      <td>2004</td>\n",
       "      <td>F</td>\n",
       "      <td>AK</td>\n",
       "      <td>48</td>\n",
       "    </tr>\n",
       "    <tr>\n",
       "      <th>2</th>\n",
       "      <td>Hannah</td>\n",
       "      <td>2004</td>\n",
       "      <td>F</td>\n",
       "      <td>AK</td>\n",
       "      <td>46</td>\n",
       "    </tr>\n",
       "    <tr>\n",
       "      <th>3</th>\n",
       "      <td>Grace</td>\n",
       "      <td>2004</td>\n",
       "      <td>F</td>\n",
       "      <td>AK</td>\n",
       "      <td>44</td>\n",
       "    </tr>\n",
       "    <tr>\n",
       "      <th>4</th>\n",
       "      <td>Emily</td>\n",
       "      <td>2004</td>\n",
       "      <td>F</td>\n",
       "      <td>AK</td>\n",
       "      <td>41</td>\n",
       "    </tr>\n",
       "  </tbody>\n",
       "</table>\n",
       "</div>"
      ],
      "text/plain": [
       "      Name  Year Gender State  Count\n",
       "0     Emma  2004      F    AK     62\n",
       "1  Madison  2004      F    AK     48\n",
       "2   Hannah  2004      F    AK     46\n",
       "3    Grace  2004      F    AK     44\n",
       "4    Emily  2004      F    AK     41"
      ]
     },
     "execution_count": 12,
     "metadata": {},
     "output_type": "execute_result"
    }
   ],
   "source": [
    "baby_cleaned = baby.drop(columns=['Unnamed: 0', 'Id'])\n",
    "baby_cleaned.to_csv('baby_after_remove.csv',index=False)\n",
    "\n",
    "baby_after_remove = pd.read_csv('baby_after_remove.csv')\n",
    "baby_after_remove.head()\n",
    "\n"
   ]
  },
  {
   "cell_type": "markdown",
   "metadata": {},
   "source": [
    "### 05. Cho biết số lượng bé trai, bé gái?"
   ]
  },
  {
   "cell_type": "code",
   "execution_count": null,
   "metadata": {},
   "outputs": [],
   "source": []
  },
  {
   "cell_type": "code",
   "execution_count": 18,
   "metadata": {},
   "outputs": [
    {
     "data": {
      "text/plain": [
       "Unnamed: 0    558846\n",
       "Id            558846\n",
       "Name          558846\n",
       "Year          558846\n",
       "Gender        558846\n",
       "State         558846\n",
       "Count         558846\n",
       "dtype: int64"
      ]
     },
     "execution_count": 18,
     "metadata": {},
     "output_type": "execute_result"
    }
   ],
   "source": [
    "baby[baby.Gender=='F'].count()\n"
   ]
  },
  {
   "cell_type": "code",
   "execution_count": 19,
   "metadata": {},
   "outputs": [
    {
     "data": {
      "text/plain": [
       "Unnamed: 0    457549\n",
       "Id            457549\n",
       "Name          457549\n",
       "Year          457549\n",
       "Gender        457549\n",
       "State         457549\n",
       "Count         457549\n",
       "dtype: int64"
      ]
     },
     "execution_count": 19,
     "metadata": {},
     "output_type": "execute_result"
    }
   ],
   "source": [
    "baby[baby.Gender=='M'].count()"
   ]
  },
  {
   "cell_type": "code",
   "execution_count": 20,
   "metadata": {},
   "outputs": [
    {
     "data": {
      "text/plain": [
       "Gender\n",
       "F    558846\n",
       "M    457549\n",
       "dtype: int64"
      ]
     },
     "execution_count": 20,
     "metadata": {},
     "output_type": "execute_result"
    }
   ],
   "source": [
    "baby.groupby(['Gender']).size()"
   ]
  },
  {
   "cell_type": "markdown",
   "metadata": {},
   "source": [
    "### 06. Trong bộ dữ liệu có bao nhiêu tên khác nhau?"
   ]
  },
  {
   "cell_type": "code",
   "execution_count": 13,
   "metadata": {},
   "outputs": [
    {
     "data": {
      "text/plain": [
       "1016395"
      ]
     },
     "execution_count": 13,
     "metadata": {},
     "output_type": "execute_result"
    }
   ],
   "source": [
    "baby.Name.count()"
   ]
  },
  {
   "cell_type": "markdown",
   "metadata": {},
   "source": [
    "### 07. Tên nào xuất hiện ít nhất?"
   ]
  },
  {
   "cell_type": "code",
   "execution_count": 21,
   "metadata": {},
   "outputs": [
    {
     "name": "stdout",
     "output_type": "stream",
     "text": [
      "Name\n",
      "Grettell    1\n",
      "Dawsen      1\n",
      "Abenezer    1\n",
      "Greenley    1\n",
      "Daiden      1\n",
      "           ..\n",
      "Terryn      1\n",
      "Yanna       1\n",
      "Zemirah     1\n",
      "Emmilyn     1\n",
      "Coalton     1\n",
      "Name: count, Length: 3682, dtype: int64\n"
     ]
    }
   ],
   "source": [
    "name_count= baby.Name.value_counts()\n",
    "least_frequent_name = name_count[ name_count== name_count.min()]\n",
    "print(least_frequent_name)"
   ]
  },
  {
   "cell_type": "markdown",
   "metadata": {},
   "source": [
    "### 08. Top 10 tên được sử dụng nhiều nhất?"
   ]
  },
  {
   "cell_type": "code",
   "execution_count": 35,
   "metadata": {},
   "outputs": [
    {
     "name": "stdout",
     "output_type": "stream",
     "text": [
      "Name\n",
      "Riley     1112\n",
      "Avery     1080\n",
      "Jordan    1073\n",
      "Peyton    1064\n",
      "Hayden    1049\n",
      "Taylor    1033\n",
      "Jayden    1031\n",
      "Alexis     984\n",
      "Payton     971\n",
      "Dakota     962\n",
      "Name: count, dtype: int64\n"
     ]
    }
   ],
   "source": [
    "name_count= baby.Name.value_counts()\n",
    "sorted_name_counts = name_count.sort_values(ascending=False)\n",
    "top_10_least_frequent_names = sorted_name_counts.head(10)\n",
    "print(top_10_least_frequent_names)"
   ]
  },
  {
   "cell_type": "markdown",
   "metadata": {},
   "source": [
    "## TRỰC QUAN DỮ LIỆU"
   ]
  },
  {
   "cell_type": "markdown",
   "metadata": {},
   "source": [
    "### 09. Vẽ đồ thị top 10 tên xuất hiện nhiều nhất năm 2014"
   ]
  },
  {
   "cell_type": "code",
   "execution_count": 96,
   "metadata": {},
   "outputs": [
    {
     "data": {
      "image/png": "[encoded data removed]",
      "text/plain": [
       "<Figure size 1400x500 with 1 Axes>"
      ]
     },
     "metadata": {},
     "output_type": "display_data"
    }
   ],
   "source": [
    "import matplotlib.pyplot as plt\n",
    "ten_Trong_Nam2014 = baby[baby.Year == 2014]\n",
    "name_count= ten_Trong_Nam2014.Name.value_counts()\n",
    "sorted_name_counts = name_count.sort_values(ascending=False)\n",
    "top_10_most_frequent_names = sorted_name_counts.head(10)\n",
    "\n",
    "# print(top_10_most_frequent_names)\n",
    "# Plotting the bar chart\n",
    "plt.figure(figsize=(14, 5))\n",
    "bars= plt.bar(top_10_most_frequent_names.index, top_10_most_frequent_names.values)\n",
    "\n",
    "for bar in bars:\n",
    "    yval = bar.get_height()\n",
    "    #x (float): The x-coordinate for the text location.\n",
    "    #y (float): The y-coordinate for the text location.\n",
    "    #s (str):The string of text that you want to display\n",
    "    #va (vertical alignment):\n",
    "    #  'top': Aligns text above the y coordinate.\n",
    "    # 'center': Centers the text at the y coordinate.\n",
    "    # 'bottom': Aligns text below the y coordinate.\n",
    "    # 'baseline': Aligns text at the baseline of the font.\n",
    "    #ha (horizontal alignment): Controls the horizontal alignment of the text relative to the x coordinate\n",
    "    # 'left': Aligns text to the left of the x coordinate.\n",
    "    # 'center': Centers the text at the x coordinate.\n",
    "    # 'right': Aligns text to the right of the x coordinate.\n",
    "    plt.text(bar.get_x() + bar.get_width()/2, yval, int(yval), va='bottom', ha='center')\n",
    "plt.title('Top 10 Most Frequent Names')\n",
    "plt.xlabel('Names')\n",
    "plt.ylabel('Frequency')\n",
    "plt.show()"
   ]
  },
  {
   "cell_type": "markdown",
   "metadata": {},
   "source": [
    "### 10. Vẽ đồ thị thể hiện tỷ lệ nam nữ qua các năm 2004-2014"
   ]
  },
  {
   "cell_type": "code",
   "execution_count": 220,
   "metadata": {},
   "outputs": [
    {
     "name": "stdout",
     "output_type": "stream",
     "text": [
      "[44.36125897 44.40753045 44.60856399 44.6274859  44.64778351 45.05068228\n",
      " 45.25169601 45.26878816 45.47428621 45.61314601 45.79810511]\n",
      "[55.63874103 55.59246955 55.39143601 55.3725141  55.35221649 54.94931772\n",
      " 54.74830399 54.73121184 54.52571379 54.38685399 54.20189489]\n"
     ]
    },
    {
     "data": {
      "image/png": "[encoded data removed]",
      "text/plain": [
       "<Figure size 1000x500 with 1 Axes>"
      ]
     },
     "metadata": {},
     "output_type": "display_data"
    }
   ],
   "source": [
    "import numpy as np\n",
    "baby= baby.loc[(baby.Year >=2004) &  (baby.Year <=2014),['Id','Year','Gender']]\n",
    "\n",
    "nam = baby[baby.Gender =='M']\n",
    "nu = baby[baby.Gender =='F'] \n",
    "so_Luong_Nam = nam.groupby(['Year']).size()\n",
    "so_Luong_Nu = nu.groupby(['Year']).size()\n",
    "\n",
    "arr_Nam = np.array(so_Luong_Nam)\n",
    "arr_Nu = np.array(so_Luong_Nu)\n",
    "\n",
    "tong_So_Luong=np.add(arr_Nam , arr_Nu)\n",
    "ti_Le_Nam= (arr_Nam/tong_So_Luong)*100\n",
    "ti_Le_Nu = (arr_Nu/tong_So_Luong)*100\n",
    "print(ti_Le_Nam)\n",
    "print(ti_Le_Nu)\n",
    "x= so_Luong_Nam.index\n",
    "\n",
    "plt.figure(figsize=(10,5))\n",
    "plt.plot(x, ti_Le_Nam, 'b',label=\"Tỉ lệ nam\")\n",
    "plt.plot(x,ti_Le_Nu, 'r',label=\"Tỉ lệ nữ\")\n",
    "plt.title('Tỉ lệ nam nữ trong 2004-2014')\n",
    "plt.xlabel('năm')\n",
    "plt.ylabel('tỉ lệ %')\n",
    "# chỉnh trục x đầy đủ năm\n",
    "plt.xticks(ticks=x, rotation=45)\n",
    "# thêm text đầu cuoi\n",
    "start=2004 \n",
    "end =2014\n",
    "\n",
    "plt.text(start,ti_Le_Nam[0]+1, f\"{ti_Le_Nam[0]:.2f}%\", color='gray')\n",
    "plt.text(end, ti_Le_Nam[-1]+1, \"%0.2f%%\"%(ti_Le_Nam[-1]), color='gray')\n",
    "\n",
    "plt.legend(loc=\"lower right\")\n",
    "plt.grid(True) \n",
    "plt.show()"
   ]
  },
  {
   "cell_type": "code",
   "execution_count": null,
   "metadata": {},
   "outputs": [],
   "source": []
  }
 ],
 "metadata": {
  "kernelspec": {
   "display_name": "Python 3 (ipykernel)",
   "language": "python",
   "name": "python3"
  },
  "language_info": {
   "codemirror_mode": {
    "name": "ipython",
    "version": 3
   },
   "file_extension": ".py",
   "mimetype": "text/x-python",
   "name": "python",
   "nbconvert_exporter": "python",
   "pygments_lexer": "ipython3",
   "version": "3.12.4"
  }
 },
 "nbformat": 4,
 "nbformat_minor": 4
}
